{
  "nbformat": 4,
  "nbformat_minor": 0,
  "metadata": {
    "colab": {
      "name": "DL Final Project.ipynb",
      "provenance": [],
      "collapsed_sections": [],
      "include_colab_link": true
    },
    "kernelspec": {
      "name": "python3",
      "display_name": "Python 3"
    },
    "language_info": {
      "name": "python"
    }
  },
  "cells": [
    {
      "cell_type": "markdown",
      "metadata": {
        "id": "view-in-github",
        "colab_type": "text"
      },
      "source": [
        "<a href=\"https://colab.research.google.com/github/eli-shea/csci-1470-Final-Project/blob/master/DL_Final_Project.ipynb\" target=\"_parent\"><img src=\"https://colab.research.google.com/assets/colab-badge.svg\" alt=\"Open In Colab\"/></a>"
      ]
    },
    {
      "cell_type": "code",
      "metadata": {
        "id": "v6SJa3kbFSUT",
        "colab": {
          "base_uri": "https://localhost:8080/"
        },
        "outputId": "1582d99f-3d28-44e1-d69a-8801c54880e9"
      },
      "source": [
        "import tensorflow as tf\n",
        "import numpy as np\n",
        "import pandas as pd\n",
        "import requests\n",
        "from bs4 import BeautifulSoup\n",
        "from google.colab import drive\n",
        "drive.mount('/drive')"
      ],
      "execution_count": null,
      "outputs": [
        {
          "output_type": "stream",
          "name": "stdout",
          "text": [
            "Mounted at /drive\n"
          ]
        }
      ]
    },
    {
      "cell_type": "markdown",
      "metadata": {
        "id": "Ba2HtXBLK9Nc"
      },
      "source": [
        "Data Preprocessing"
      ]
    },
    {
      "cell_type": "code",
      "metadata": {
        "id": "ADjtqKR_dBq9"
      },
      "source": [
        "def get_abbrev():\n",
        "  team_dict1 = {}\n",
        "  team_dict2 = {}\n",
        "  url = 'https://raw.githubusercontent.com/fantasydatapros/data/master/misc/abbrev.csv'\n",
        "  df = pd.read_csv(url)\n",
        "  chargers_index = 9\n",
        "  rams_index = 19\n",
        "  for index, row in df.iterrows():\n",
        "    label = index\n",
        "    if index == 32:\n",
        "      label = chargers_index\n",
        "    elif index == 33:\n",
        "      label = rams_index\n",
        "    team_dict1[row['Team']] = label\n",
        "    team_dict2[row['Abbrev']] = label\n",
        "  return team_dict1, team_dict2\n",
        "team_dict1, team_dict2 = get_abbrev()"
      ],
      "execution_count": null,
      "outputs": []
    },
    {
      "cell_type": "code",
      "metadata": {
        "id": "j2uooXIHwld3",
        "colab": {
          "base_uri": "https://localhost:8080/"
        },
        "outputId": "6318b03f-bc64-408e-b1b5-ef70801beaf3"
      },
      "source": [
        "team_dict1"
      ],
      "execution_count": null,
      "outputs": [
        {
          "output_type": "execute_result",
          "data": {
            "text/plain": [
              "{'Arizona Cardinals': 28,\n",
              " 'Atlanta Falcons': 20,\n",
              " 'Baltimore Ravens': 1,\n",
              " 'Buffalo Bills': 26,\n",
              " 'Carolina Panthers': 0,\n",
              " 'Chicago Bears': 23,\n",
              " 'Cincinnati Bengals': 18,\n",
              " 'Cleveland Browns': 8,\n",
              " 'Dallas Cowboys': 4,\n",
              " 'Denver Broncos': 27,\n",
              " 'Detroit Lions': 15,\n",
              " 'Green Bay Packers': 3,\n",
              " 'Houston Texans': 13,\n",
              " 'Indianapolis Colts': 25,\n",
              " 'Jacksonville Jaguars': 22,\n",
              " 'Kansas City Chiefs': 7,\n",
              " 'Los Angeles Chargers': 9,\n",
              " 'Los Angeles Rams': 19,\n",
              " 'Miami Dolphins': 21,\n",
              " 'Minnesota Vikings': 5,\n",
              " 'New England Patriots': 24,\n",
              " 'New Orleans Saints': 6,\n",
              " 'New York Giants': 16,\n",
              " 'New York Jets': 29,\n",
              " 'Oakland Raiders': 14,\n",
              " 'Philadelphia Eagles': 17,\n",
              " 'Pittsburgh Steelers': 31,\n",
              " 'San Diego Chargers': 9,\n",
              " 'San Francisco 49ers': 12,\n",
              " 'Seattle Seahawks': 10,\n",
              " 'St. Louis Rams': 19,\n",
              " 'Tampa Bay Buccaneers': 11,\n",
              " 'Tennessee Titans': 2,\n",
              " 'Washington Redskins': 30}"
            ]
          },
          "metadata": {},
          "execution_count": 3
        }
      ]
    },
    {
      "cell_type": "code",
      "metadata": {
        "id": "DVwbTKmCQ3hH"
      },
      "source": [
        "def get_def(year):\n",
        "  url = 'https://www.pro-football-reference.com'\n",
        "  r = requests.get(url + '/years/' + str(year) + '/fantasy-points-against-WR.htm')\n",
        "  soup = BeautifulSoup(r.content, 'html.parser')\n",
        "  table = soup.find_all('table')[0]  \n",
        "  df = pd.read_html(str(table))[0]\n",
        "  \n",
        "  df.columns = df.columns.droplevel(level=0)\n",
        "  df = df.loc[df['Tm'] != 'Tm']\n",
        "  df = df.loc[df['Tm'] != '']\n",
        "  df = df.rename(columns={'Tm': 'Def', \n",
        "                          'Tgt': 'Tgt_Allowed', \n",
        "                          'Yds': 'ReceivingYds_Allowed', \n",
        "                          'Rec': 'Rec_Allowed', \n",
        "                          'Td': 'ReceivingTD_Allowed'})\n",
        "  df = df.drop(columns=['FantPt', 'DKPt', 'FDPt','G'])\n",
        "  df = df.replace({'Def' : team_dict1})\n",
        "  return df\n"
      ],
      "execution_count": null,
      "outputs": []
    },
    {
      "cell_type": "code",
      "metadata": {
        "id": "aKRuu9ozjTS9"
      },
      "source": [
        "def get_opponent_dicts(year):\n",
        "  opponents_dict = {}\n",
        "  url = 'https://www.pro-football-reference.com'\n",
        "  r = requests.get(url + '/years/' + str(year) + '/games.htm')\n",
        "  soup = BeautifulSoup(r.content, 'html.parser')\n",
        "  table = soup.find_all('table')[0]  \n",
        "  df = pd.read_html(str(table))[0]\n",
        "  df = df.loc[df['Week'] != 'Week']\n",
        "  df = df.loc[df['Week'] != 'WildCard']\n",
        "  df = df.loc[df['Week'] != 'Division']\n",
        "  df = df.loc[df['Week'] != 'ConfChamp']\n",
        "  df = df.loc[df['Week'] != 'SuperBowl']\n",
        "  df = df.rename(columns={'Winner/tie': 'T1', 'Loser/tie': 'T2'})\n",
        "  df = df.loc[:, ~df.columns.str.contains('^Unnamed')]\n",
        "  df = df.drop(columns=['Day','Date','Time', 'PtsW', 'PtsL', 'YdsW', 'TOW' , 'YdsL' , 'TOL'])\n",
        "  df = df.replace({'T1': team_dict1, 'T2': team_dict1})\n",
        "  d = [v for k,v in df.groupby('Week')]\n",
        "  for frame in d:\n",
        "    week_dict = {}\n",
        "    week = 0\n",
        "    for _, row in frame.iterrows():\n",
        "      week_dict[row['T1']] = row['T2']\n",
        "      week_dict[row['T2']] = row['T1']\n",
        "      week = row['Week']\n",
        "    opponents_dict[week] = week_dict\n",
        "\n",
        "  return opponents_dict"
      ],
      "execution_count": null,
      "outputs": []
    },
    {
      "cell_type": "code",
      "metadata": {
        "id": "lxsDKw2AK8bC",
        "colab": {
          "base_uri": "https://localhost:8080/",
          "height": 309
        },
        "outputId": "eca9779c-05ef-4d47-9236-46ec20f550c8"
      },
      "source": [
        "biglist = []\n",
        "count = 0\n",
        "\n",
        "for y in range(1999, 2019):\n",
        "  opponents_dict = get_opponent_dicts(y)\n",
        "  defenses = get_def(y-1)\n",
        "  for w in range(1,17):\n",
        "    week = 'week' + str(w)\n",
        "    url = 'https://raw.githubusercontent.com/fantasydatapros/data/master/weekly/' + str(y) + '/' + week + '.csv'\n",
        "    df = pd.read_csv(url)\n",
        "    wr_filter = df.loc[:,('Pos')] == 'WR' \n",
        "    df = df[wr_filter]\n",
        "    df = df.loc[:,('Player', 'Tm', 'RushingAtt', 'RushingYds', 'RushingTD', 'Rec', 'Tgt', \n",
        "            'ReceivingYds', 'ReceivingTD', 'PPRFantasyPoints')]\n",
        "    df.loc[:,('Year')] = y\n",
        "    df.loc[:,('Week')] = w\n",
        "    df = df.replace({'Tm': team_dict2})\n",
        "    df['Def'] = df['Tm'].map(opponents_dict[str(w)])\n",
        "    df = df.merge(defenses, on='Def')\n",
        "    if y == 2002:\n",
        "      df = df[df.Tm != 'HOU']\n",
        "      df = df[df.Def != 'HOU']\n",
        "    biglist = biglist + df.values.tolist()\n",
        "data= pd.DataFrame(biglist, columns=['Player', 'Tm', 'RushingAtt', 'RushingYds', 'RushingTD', 'Rec', 'Tgt', \n",
        "            'ReceivingYds', 'ReceivingTD', 'PPRFantasyPoints', 'Year', 'Week', \n",
        "            'Def', 'Tgt_Allowed', 'ReceivingYds_Allowed', 'Rec_Allowed', 'ReceivingTD_Allowed'])\n",
        "defenses.head()\n",
        "data.head()"
      ],
      "execution_count": null,
      "outputs": [
        {
          "output_type": "execute_result",
          "data": {
            "text/html": [
              "<div>\n",
              "<style scoped>\n",
              "    .dataframe tbody tr th:only-of-type {\n",
              "        vertical-align: middle;\n",
              "    }\n",
              "\n",
              "    .dataframe tbody tr th {\n",
              "        vertical-align: top;\n",
              "    }\n",
              "\n",
              "    .dataframe thead th {\n",
              "        text-align: right;\n",
              "    }\n",
              "</style>\n",
              "<table border=\"1\" class=\"dataframe\">\n",
              "  <thead>\n",
              "    <tr style=\"text-align: right;\">\n",
              "      <th></th>\n",
              "      <th>Player</th>\n",
              "      <th>Tm</th>\n",
              "      <th>RushingAtt</th>\n",
              "      <th>RushingYds</th>\n",
              "      <th>RushingTD</th>\n",
              "      <th>Rec</th>\n",
              "      <th>Tgt</th>\n",
              "      <th>ReceivingYds</th>\n",
              "      <th>ReceivingTD</th>\n",
              "      <th>PPRFantasyPoints</th>\n",
              "      <th>Year</th>\n",
              "      <th>Week</th>\n",
              "      <th>Def</th>\n",
              "      <th>Tgt_Allowed</th>\n",
              "      <th>ReceivingYds_Allowed</th>\n",
              "      <th>Rec_Allowed</th>\n",
              "      <th>ReceivingTD_Allowed</th>\n",
              "    </tr>\n",
              "  </thead>\n",
              "  <tbody>\n",
              "    <tr>\n",
              "      <th>0</th>\n",
              "      <td>Jacquez Green</td>\n",
              "      <td>11</td>\n",
              "      <td>1.0</td>\n",
              "      <td>15.0</td>\n",
              "      <td>0.0</td>\n",
              "      <td>3.0</td>\n",
              "      <td>7.0</td>\n",
              "      <td>27.0</td>\n",
              "      <td>0.0</td>\n",
              "      <td>7.2</td>\n",
              "      <td>1999</td>\n",
              "      <td>1</td>\n",
              "      <td>16.0</td>\n",
              "      <td>227</td>\n",
              "      <td>105</td>\n",
              "      <td>1562</td>\n",
              "      <td>5</td>\n",
              "    </tr>\n",
              "    <tr>\n",
              "      <th>1</th>\n",
              "      <td>Bert Emanuel</td>\n",
              "      <td>11</td>\n",
              "      <td>0.0</td>\n",
              "      <td>0.0</td>\n",
              "      <td>0.0</td>\n",
              "      <td>3.0</td>\n",
              "      <td>12.0</td>\n",
              "      <td>53.0</td>\n",
              "      <td>0.0</td>\n",
              "      <td>8.3</td>\n",
              "      <td>1999</td>\n",
              "      <td>1</td>\n",
              "      <td>16.0</td>\n",
              "      <td>227</td>\n",
              "      <td>105</td>\n",
              "      <td>1562</td>\n",
              "      <td>5</td>\n",
              "    </tr>\n",
              "    <tr>\n",
              "      <th>2</th>\n",
              "      <td>Karl Williams</td>\n",
              "      <td>11</td>\n",
              "      <td>0.0</td>\n",
              "      <td>0.0</td>\n",
              "      <td>0.0</td>\n",
              "      <td>2.0</td>\n",
              "      <td>3.0</td>\n",
              "      <td>14.0</td>\n",
              "      <td>0.0</td>\n",
              "      <td>3.4</td>\n",
              "      <td>1999</td>\n",
              "      <td>1</td>\n",
              "      <td>16.0</td>\n",
              "      <td>227</td>\n",
              "      <td>105</td>\n",
              "      <td>1562</td>\n",
              "      <td>5</td>\n",
              "    </tr>\n",
              "    <tr>\n",
              "      <th>3</th>\n",
              "      <td>Reidel Anthony</td>\n",
              "      <td>11</td>\n",
              "      <td>0.0</td>\n",
              "      <td>0.0</td>\n",
              "      <td>0.0</td>\n",
              "      <td>2.0</td>\n",
              "      <td>4.0</td>\n",
              "      <td>10.0</td>\n",
              "      <td>0.0</td>\n",
              "      <td>3.0</td>\n",
              "      <td>1999</td>\n",
              "      <td>1</td>\n",
              "      <td>16.0</td>\n",
              "      <td>227</td>\n",
              "      <td>105</td>\n",
              "      <td>1562</td>\n",
              "      <td>5</td>\n",
              "    </tr>\n",
              "    <tr>\n",
              "      <th>4</th>\n",
              "      <td>Darnell McDonald</td>\n",
              "      <td>11</td>\n",
              "      <td>0.0</td>\n",
              "      <td>0.0</td>\n",
              "      <td>0.0</td>\n",
              "      <td>1.0</td>\n",
              "      <td>1.0</td>\n",
              "      <td>6.0</td>\n",
              "      <td>0.0</td>\n",
              "      <td>1.6</td>\n",
              "      <td>1999</td>\n",
              "      <td>1</td>\n",
              "      <td>16.0</td>\n",
              "      <td>227</td>\n",
              "      <td>105</td>\n",
              "      <td>1562</td>\n",
              "      <td>5</td>\n",
              "    </tr>\n",
              "  </tbody>\n",
              "</table>\n",
              "</div>"
            ],
            "text/plain": [
              "             Player  Tm  ...  Rec_Allowed  ReceivingTD_Allowed\n",
              "0     Jacquez Green  11  ...         1562                    5\n",
              "1      Bert Emanuel  11  ...         1562                    5\n",
              "2     Karl Williams  11  ...         1562                    5\n",
              "3    Reidel Anthony  11  ...         1562                    5\n",
              "4  Darnell McDonald  11  ...         1562                    5\n",
              "\n",
              "[5 rows x 17 columns]"
            ]
          },
          "metadata": {},
          "execution_count": 6
        }
      ]
    },
    {
      "cell_type": "code",
      "metadata": {
        "id": "9x8xJ_AOkN5j"
      },
      "source": [
        "data.sort_values(by=['Player', 'Year', 'Week'], inplace=True)\n",
        "teams = sorted(data['Tm'].unique())\n",
        "d = [v for k,v in data.groupby('Player', as_index=False)]"
      ],
      "execution_count": null,
      "outputs": []
    },
    {
      "cell_type": "code",
      "metadata": {
        "id": "sMRp8XGfqUyc",
        "colab": {
          "base_uri": "https://localhost:8080/"
        },
        "outputId": "e2b70ff2-668c-41a1-b539-b1a814ccd611"
      },
      "source": [
        "data.columns"
      ],
      "execution_count": null,
      "outputs": [
        {
          "output_type": "execute_result",
          "data": {
            "text/plain": [
              "Index(['Player', 'Tm', 'RushingAtt', 'RushingYds', 'RushingTD', 'Rec', 'Tgt',\n",
              "       'ReceivingYds', 'ReceivingTD', 'PPRFantasyPoints', 'Year', 'Week',\n",
              "       'Def', 'Tgt_Allowed', 'ReceivingYds_Allowed', 'Rec_Allowed',\n",
              "       'ReceivingTD_Allowed'],\n",
              "      dtype='object')"
            ]
          },
          "metadata": {},
          "execution_count": 17
        }
      ]
    },
    {
      "cell_type": "code",
      "metadata": {
        "id": "JuhiwjUzJe_6"
      },
      "source": [
        "#Pass in a dataframe and list of columns to generate EWMAs on, as well as lookback window, an integer\n",
        "#Returns dataframe with EWMAs generated\n",
        "def generate_ewma(df, col_list, lookback_window):\n",
        "  name_df = df.sort_values(by=['Player', 'Year', 'Week'])\n",
        "  \n",
        "  ewma_df = name_df.copy()\n",
        "  for col in col_list:\n",
        "    new_col_name = col + '_EWMA'\n",
        "    ewma_df[new_col_name] = np.nan\n",
        "  \n",
        "  new_col_list = [col + '_EWMA' for col in col_list]\n",
        "  \n",
        "  player_list = [v for k,v in name_df.groupby('Player', as_index=False)]\n",
        "  for player_df in player_list:\n",
        "    print(player_df['Player'])\n",
        "    year_list = [v for k,v in player_df.groupby('Year', as_index=False)]\n",
        "    for year_df in year_list:\n",
        "      year_df[new_col_list] = year_df[col_list].rolling(lookback_window).mean().shift(1)\n",
        "      ewma_df.update(year_df)\n",
        "\n",
        "  \n",
        "  return ewma_df"
      ],
      "execution_count": null,
      "outputs": []
    },
    {
      "cell_type": "code",
      "metadata": {
        "id": "S1UJu9Q1nlag"
      },
      "source": [
        "def get_prev_week_data(df, col_list, lookback_window):\n",
        "  name_df = df.sort_values(by=['Player', 'Year', 'Week'])\n",
        "  updated_df = name_df.copy()\n",
        "  new_col_list = []\n",
        "  \n",
        "  for i in range(1, lookback_window + 1):\n",
        "    new_cols_per_year = []\n",
        "    \n",
        "    for col in col_list:\n",
        "      new_col_name = col + '_' + str(i) + '_Weeks_Ago'\n",
        "      new_cols_per_year.append(new_col_name)\n",
        "      updated_df[new_col_name] = np.nan\n",
        "    new_col_list.append(new_cols_per_year)\n",
        "\n",
        "\n",
        "\n",
        "  player_list = [v for k,v in name_df.groupby('Player', as_index=False)]\n",
        "  for player_df in player_list:\n",
        "    print(player_df['Player'])\n",
        "    year_list = [v for k,v in player_df.groupby('Year', as_index=False)]\n",
        "    for year_df in year_list:\n",
        "      for i in range(1, lookback_window + 1):\n",
        "        cur_year_cols = new_col_list[i-1]\n",
        "        year_df[cur_year_cols] = year_df[col_list].shift(i)\n",
        "      updated_df.update(year_df)\n",
        "  \n",
        "  return updated_df"
      ],
      "execution_count": null,
      "outputs": []
    },
    {
      "cell_type": "code",
      "metadata": {
        "id": "m8nz6V2BJ1k_"
      },
      "source": [
        "col_list = ['RushingAtt', 'RushingYds', 'RushingTD', 'Rec', 'Tgt',\n",
        "       'ReceivingYds', 'ReceivingTD', 'PPRFantasyPoints',\n",
        "       'Def', 'Tgt_Allowed', 'ReceivingYds_Allowed', 'Rec_Allowed',\n",
        "       'ReceivingTD_Allowed']\n",
        "updated_df = get_prev_week_data(data, col_list, 3)"
      ],
      "execution_count": null,
      "outputs": []
    },
    {
      "cell_type": "code",
      "metadata": {
        "id": "wJM2eiMyQB6l"
      },
      "source": [
        "updated_df\n",
        "# updated_df.columns\n"
      ],
      "execution_count": null,
      "outputs": []
    },
    {
      "cell_type": "code",
      "metadata": {
        "id": "qvIxUZALsgR6"
      },
      "source": [
        "\n",
        "non_features = ['Player', 'Tm', 'Def', 'Year' , 'Week']\n",
        "label = ['PPRFantasyPoints']"
      ],
      "execution_count": null,
      "outputs": []
    },
    {
      "cell_type": "code",
      "metadata": {
        "id": "T_zFPyH5R0R7"
      },
      "source": [
        "updated_df.to_csv('/drive/My Drive/Colab Notebooks/data.csv')"
      ],
      "execution_count": null,
      "outputs": []
    },
    {
      "cell_type": "code",
      "metadata": {
        "id": "gAj_v9Q8Qc5l"
      },
      "source": [
        "#Splits training and testing data\n",
        "#Takes in our large dataframe and a list of years that will belong to testing data\n",
        "#Returns training df and testing df\n",
        "def train_test_split_by_year(df, testing_year_list):\n",
        "  training_data = df[~df['Year'].isin(testing_year_list)]\n",
        "  testing_data = df[df['Year'].isin(testing_year_list)]\n",
        "  return training_data, testing_data"
      ],
      "execution_count": null,
      "outputs": []
    },
    {
      "cell_type": "code",
      "source": [
        "import requests"
      ],
      "metadata": {
        "id": "sbOl0v9VyHsP"
      },
      "execution_count": null,
      "outputs": []
    },
    {
      "cell_type": "code",
      "source": [
        "league_id = 555555\n",
        "season    = 2017\n",
        "\n",
        "slotcodes = {\n",
        "    0 : 'QB', 2 : 'RB', 4 : 'WR',\n",
        "    6 : 'TE', 16: 'Def', 17: 'K',\n",
        "    20: 'Bench', 21: 'IR', 23: 'Flex'\n",
        "}\n",
        "\n",
        "url = 'https://fantasy.espn.com/apis/v3/games/ffl/leagueHistory/' + \\\n",
        "      str(league_id) + '/?seasonId=' + str(season)\n",
        "\n",
        "data = []\n",
        "print('Week ', end='')\n",
        "for week in range(1, 17):\n",
        "    print(week, end=' ')\n",
        "\n",
        "    r = requests.get(url,\n",
        "                 params={'view': 'mMatchup', \n",
        "                         'view': 'mMatchupScore',\n",
        "                         'scoringPeriodId': week})\n",
        "    d = r.json()\n",
        "    \n",
        "    for tm in d['teams']:\n",
        "        tmid = tm['id']\n",
        "        for p in tm['roster']['entries']:\n",
        "            name = p['playerPoolEntry']['player']['fullName']\n",
        "            slot = p['lineupSlotId']\n",
        "            pos  = slotcodes[slot]\n",
        "\n",
        "            # injured status (need try/exc bc of D/ST)\n",
        "            inj = 'NA'\n",
        "            try:\n",
        "                inj = p['playerPoolEntry']['player']['injuryStatus']\n",
        "            except:\n",
        "                pass\n",
        "\n",
        "            # projected/actual points\n",
        "            proj, act = None, None\n",
        "            for stat in p['playerPoolEntry']['player']['stats']:\n",
        "                if stat['scoringPeriodId'] != week:\n",
        "                    continue\n",
        "                if stat['statSourceId'] == 0:\n",
        "                    act = stat['appliedTotal']\n",
        "                elif stat['statSourceId'] == 1:\n",
        "                    proj = stat['appliedTotal']\n",
        "            if pos == 'WR':\n",
        "              data.append([\n",
        "                  week, tmid, name, slot, pos, inj, proj, act\n",
        "              ])\n",
        "print('\\nComplete.')\n",
        "\n",
        "data = pd.DataFrame(data, \n",
        "                    columns=['Week', 'Team', 'Player', 'Slot', \n",
        "                             'Pos', 'Status', 'Proj', 'Actual'])"
      ],
      "metadata": {
        "colab": {
          "base_uri": "https://localhost:8080/",
          "height": 269
        },
        "id": "lejvgHZfyIBz",
        "outputId": "1bd58c18-30f1-437c-ba52-e121dcfdcc46"
      },
      "execution_count": null,
      "outputs": [
        {
          "output_type": "stream",
          "name": "stdout",
          "text": [
            "Week 1 [{'draftDetail': {'drafted': True, 'inProgress': False}, 'gameId': 1, 'id': 555555, 'schedule': [{'away': {'adjustment': 0.0, 'pointsByScoringPeriod': {'1': 72.72}, 'teamId': 21, 'tiebreak': 0.0, 'totalPoints': 72.72}, 'home': {'adjustment': 0.0, 'pointsByScoringPeriod': {'1': 65.94}, 'teamId': 30, 'tiebreak': 0.0, 'totalPoints': 65.94}, 'id': 0, 'matchupPeriodId': 1, 'playoffTierType': 'NONE', 'winner': 'AWAY'}, {'away': {'adjustment': 0.0, 'pointsByScoringPeriod': {'1': 98.78}, 'teamId': 22, 'tiebreak': 0.0, 'totalPoints': 98.78}, 'home': {'adjustment': 0.0, 'pointsByScoringPeriod': {'1': 125.64}, 'teamId': 3, 'tiebreak': 0.0, 'totalPoints': 125.64}, 'id': 1, 'matchupPeriodId': 1, 'playoffTierType': 'NONE', 'winner': 'HOME'}, {'away': {'adjustment': 0.0, 'pointsByScoringPeriod': {'1': 94.34}, 'teamId': 9, 'tiebreak': 0.0, 'totalPoints': 94.34}, 'home': {'adjustment': 0.0, 'pointsByScoringPeriod': {'1': 64.84}, 'teamId': 26, 'tiebreak': 0.0, 'totalPoints': 64.84}, 'id': 2, 'matchupPeriodId': 1, 'playoffTierType': 'NONE', 'winner': 'AWAY'}, {'away': {'adjustment': 0.0, 'pointsByScoringPeriod': {'1': 99.9}, 'teamId': 29, 'tiebreak': 0.0, 'totalPoints': 99.9}, 'home': {'adjustment': 0.0, 'pointsByScoringPeriod': {'1': 81.78}, 'teamId': 27, 'tiebreak': 0.0, 'totalPoints': 81.78}, 'id': 3, 'matchupPeriodId': 1, 'playoffTierType': 'NONE', 'winner': 'AWAY'}, {'away': {'adjustment': 0.0, 'pointsByScoringPeriod': {'1': 93.18}, 'teamId': 6, 'tiebreak': 0.0, 'totalPoints': 93.18}, 'home': {'adjustment': 0.0, 'pointsByScoringPeriod': {'1': 98.48}, 'teamId': 28, 'tiebreak': 0.0, 'totalPoints': 98.48}, 'id': 4, 'matchupPeriodId': 1, 'playoffTierType': 'NONE', 'winner': 'HOME'}, {'away': {'adjustment': 0.0, 'pointsByScoringPeriod': {'1': 70.84}, 'teamId': 1, 'tiebreak': 0.0, 'totalPoints': 70.84}, 'home': {'adjustment': 0.0, 'pointsByScoringPeriod': {'1': 92.84}, 'teamId': 18, 'tiebreak': 0.0, 'totalPoints': 92.84}, 'id': 5, 'matchupPeriodId': 1, 'playoffTierType': 'NONE', 'winner': 'HOME'}, {'away': {'adjustment': 0.0, 'pointsByScoringPeriod': {'2': 80.08}, 'teamId': 22, 'tiebreak': 0.0, 'totalPoints': 80.08}, 'home': {'adjustment': 0.0, 'pointsByScoringPeriod': {'2': 98.62}, 'teamId': 21, 'tiebreak': 0.0, 'totalPoints': 98.62}, 'id': 6, 'matchupPeriodId': 2, 'playoffTierType': 'NONE', 'winner': 'HOME'}, {'away': {'adjustment': 0.0, 'pointsByScoringPeriod': {'2': 103.82}, 'teamId': 30, 'tiebreak': 0.0, 'totalPoints': 103.82}, 'home': {'adjustment': 0.0, 'pointsByScoringPeriod': {'2': 78.64}, 'teamId': 9, 'tiebreak': 0.0, 'totalPoints': 78.64}, 'id': 7, 'matchupPeriodId': 2, 'playoffTierType': 'NONE', 'winner': 'AWAY'}, {'away': {'adjustment': 0.0, 'pointsByScoringPeriod': {'2': 106.34}, 'teamId': 3, 'tiebreak': 0.0, 'totalPoints': 106.34}, 'home': {'adjustment': 0.0, 'pointsByScoringPeriod': {'2': 105.62}, 'teamId': 26, 'tiebreak': 0.0, 'totalPoints': 105.62}, 'id': 8, 'matchupPeriodId': 2, 'playoffTierType': 'NONE', 'winner': 'AWAY'}, {'away': {'adjustment': 0.0, 'pointsByScoringPeriod': {'2': 102.3}, 'teamId': 6, 'tiebreak': 0.0, 'totalPoints': 102.3}, 'home': {'adjustment': 0.0, 'pointsByScoringPeriod': {'2': 77.06}, 'teamId': 29, 'tiebreak': 0.0, 'totalPoints': 77.06}, 'id': 9, 'matchupPeriodId': 2, 'playoffTierType': 'NONE', 'winner': 'AWAY'}, {'away': {'adjustment': 0.0, 'pointsByScoringPeriod': {'2': 126.18}, 'teamId': 27, 'tiebreak': 0.0, 'totalPoints': 126.18}, 'home': {'adjustment': 0.0, 'pointsByScoringPeriod': {'2': 75.08}, 'teamId': 1, 'tiebreak': 0.0, 'totalPoints': 75.08}, 'id': 10, 'matchupPeriodId': 2, 'playoffTierType': 'NONE', 'winner': 'AWAY'}, {'away': {'adjustment': 0.0, 'pointsByScoringPeriod': {'2': 71.16}, 'teamId': 28, 'tiebreak': 0.0, 'totalPoints': 71.16}, 'home': {'adjustment': 0.0, 'pointsByScoringPeriod': {'2': 60.6}, 'teamId': 18, 'tiebreak': 0.0, 'totalPoints': 60.6}, 'id': 11, 'matchupPeriodId': 2, 'playoffTierType': 'NONE', 'winner': 'AWAY'}, {'away': {'adjustment': 0.0, 'pointsByScoringPeriod': {'3': 108.32}, 'teamId': 21, 'tiebreak': 0.0, 'totalPoints': 108.32}, 'home': {'adjustment': 0.0, 'pointsByScoringPeriod': {'3': 119.9}, 'teamId': 9, 'tiebreak': 0.0, 'totalPoints': 119.9}, 'id': 12, 'matchupPeriodId': 3, 'playoffTierType': 'NONE', 'winner': 'HOME'}, {'away': {'adjustment': 0.0, 'pointsByScoringPeriod': {'3': 79.12}, 'teamId': 26, 'tiebreak': 0.0, 'totalPoints': 79.12}, 'home': {'adjustment': 0.0, 'pointsByScoringPeriod': {'3': 54.46}, 'teamId': 22, 'tiebreak': 0.0, 'totalPoints': 54.46}, 'id': 13, 'matchupPeriodId': 3, 'playoffTierType': 'NONE', 'winner': 'AWAY'}, {'away': {'adjustment': 0.0, 'pointsByScoringPeriod': {'3': 94.08}, 'teamId': 3, 'tiebreak': 0.0, 'totalPoints': 94.08}, 'home': {'adjustment': 0.0, 'pointsByScoringPeriod': {'3': 100.98}, 'teamId': 30, 'tiebreak': 0.0, 'totalPoints': 100.98}, 'id': 14, 'matchupPeriodId': 3, 'playoffTierType': 'NONE', 'winner': 'HOME'}, {'away': {'adjustment': 0.0, 'pointsByScoringPeriod': {'3': 80.7}, 'teamId': 29, 'tiebreak': 0.0, 'totalPoints': 80.7}, 'home': {'adjustment': 0.0, 'pointsByScoringPeriod': {'3': 102.66}, 'teamId': 1, 'tiebreak': 0.0, 'totalPoints': 102.66}, 'id': 15, 'matchupPeriodId': 3, 'playoffTierType': 'NONE', 'winner': 'HOME'}, {'away': {'adjustment': 0.0, 'pointsByScoringPeriod': {'3': 110.9}, 'teamId': 18, 'tiebreak': 0.0, 'totalPoints': 110.9}, 'home': {'adjustment': 0.0, 'pointsByScoringPeriod': {'3': 98.52}, 'teamId': 6, 'tiebreak': 0.0, 'totalPoints': 98.52}, 'id': 16, 'matchupPeriodId': 3, 'playoffTierType': 'NONE', 'winner': 'AWAY'}, {'away': {'adjustment': 0.0, 'pointsByScoringPeriod': {'3': 102.42}, 'teamId': 28, 'tiebreak': 0.0, 'totalPoints': 102.42}, 'home': {'adjustment': 0.0, 'pointsByScoringPeriod': {'3': 112.92}, 'teamId': 27, 'tiebreak': 0.0, 'totalPoints': 112.92}, 'id': 17, 'matchupPeriodId': 3, 'playoffTierType': 'NONE', 'winner': 'HOME'}, {'away': {'adjustment': 0.0, 'pointsByScoringPeriod': {'4': 84.46}, 'teamId': 26, 'tiebreak': 0.0, 'totalPoints': 84.46}, 'home': {'adjustment': 0.0, 'pointsByScoringPeriod': {'4': 115.9}, 'teamId': 21, 'tiebreak': 0.0, 'totalPoints': 115.9}, 'id': 18, 'matchupPeriodId': 4, 'playoffTierType': 'NONE', 'winner': 'HOME'}, {'away': {'adjustment': 0.0, 'pointsByScoringPeriod': {'4': 100.52}, 'teamId': 9, 'tiebreak': 0.0, 'totalPoints': 100.52}, 'home': {'adjustment': 0.0, 'pointsByScoringPeriod': {'4': 108.88}, 'teamId': 3, 'tiebreak': 0.0, 'totalPoints': 108.88}, 'id': 19, 'matchupPeriodId': 4, 'playoffTierType': 'NONE', 'winner': 'HOME'}, {'away': {'adjustment': 0.0, 'pointsByScoringPeriod': {'4': 62.86}, 'teamId': 22, 'tiebreak': 0.0, 'totalPoints': 62.86}, 'home': {'adjustment': 0.0, 'pointsByScoringPeriod': {'4': 105.24}, 'teamId': 30, 'tiebreak': 0.0, 'totalPoints': 105.24}, 'id': 20, 'matchupPeriodId': 4, 'playoffTierType': 'NONE', 'winner': 'HOME'}, {'away': {'adjustment': 0.0, 'pointsByScoringPeriod': {'4': 80.24}, 'teamId': 18, 'tiebreak': 0.0, 'totalPoints': 80.24}, 'home': {'adjustment': 0.0, 'pointsByScoringPeriod': {'4': 92.2}, 'teamId': 29, 'tiebreak': 0.0, 'totalPoints': 92.2}, 'id': 21, 'matchupPeriodId': 4, 'playoffTierType': 'NONE', 'winner': 'HOME'}, {'away': {'adjustment': 0.0, 'pointsByScoringPeriod': {'4': 73.98}, 'teamId': 1, 'tiebreak': 0.0, 'totalPoints': 73.98}, 'home': {'adjustment': 0.0, 'pointsByScoringPeriod': {'4': 85.38}, 'teamId': 28, 'tiebreak': 0.0, 'totalPoints': 85.38}, 'id': 22, 'matchupPeriodId': 4, 'playoffTierType': 'NONE', 'winner': 'HOME'}, {'away': {'adjustment': 0.0, 'pointsByScoringPeriod': {'4': 100.88}, 'teamId': 6, 'tiebreak': 0.0, 'totalPoints': 100.88}, 'home': {'adjustment': 0.0, 'pointsByScoringPeriod': {'4': 108.58}, 'teamId': 27, 'tiebreak': 0.0, 'totalPoints': 108.58}, 'id': 23, 'matchupPeriodId': 4, 'playoffTierType': 'NONE', 'winner': 'HOME'}, {'away': {'adjustment': 0.0, 'pointsByScoringPeriod': {'5': 86.82}, 'teamId': 21, 'tiebreak': 0.0, 'totalPoints': 86.82}, 'home': {'adjustment': 0.0, 'pointsByScoringPeriod': {'5': 139.72}, 'teamId': 3, 'tiebreak': 0.0, 'totalPoints': 139.72}, 'id': 24, 'matchupPeriodId': 5, 'playoffTierType': 'NONE', 'winner': 'HOME'}, {'away': {'adjustment': 0.0, 'pointsByScoringPeriod': {'5': 103.8}, 'teamId': 30, 'tiebreak': 0.0, 'totalPoints': 103.8}, 'home': {'adjustment': 0.0, 'pointsByScoringPeriod': {'5': 84.44}, 'teamId': 26, 'tiebreak': 0.0, 'totalPoints': 84.44}, 'id': 25, 'matchupPeriodId': 5, 'playoffTierType': 'NONE', 'winner': 'AWAY'}, {'away': {'adjustment': 0.0, 'pointsByScoringPeriod': {'5': 77.96}, 'teamId': 22, 'tiebreak': 0.0, 'totalPoints': 77.96}, 'home': {'adjustment': 0.0, 'pointsByScoringPeriod': {'5': 96.68}, 'teamId': 9, 'tiebreak': 0.0, 'totalPoints': 96.68}, 'id': 26, 'matchupPeriodId': 5, 'playoffTierType': 'NONE', 'winner': 'HOME'}, {'away': {'adjustment': 0.0, 'pointsByScoringPeriod': {'5': 75.46}, 'teamId': 29, 'tiebreak': 0.0, 'totalPoints': 75.46}, 'home': {'adjustment': 0.0, 'pointsByScoringPeriod': {'5': 83.56}, 'teamId': 28, 'tiebreak': 0.0, 'totalPoints': 83.56}, 'id': 27, 'matchupPeriodId': 5, 'playoffTierType': 'NONE', 'winner': 'HOME'}, {'away': {'adjustment': 0.0, 'pointsByScoringPeriod': {'5': 108.32}, 'teamId': 27, 'tiebreak': 0.0, 'totalPoints': 108.32}, 'home': {'adjustment': 0.0, 'pointsByScoringPeriod': {'5': 52.98}, 'teamId': 18, 'tiebreak': 0.0, 'totalPoints': 52.98}, 'id': 28, 'matchupPeriodId': 5, 'playoffTierType': 'NONE', 'winner': 'AWAY'}, {'away': {'adjustment': 0.0, 'pointsByScoringPeriod': {'5': 140.14}, 'teamId': 6, 'tiebreak': 0.0, 'totalPoints': 140.14}, 'home': {'adjustment': 0.0, 'pointsByScoringPeriod': {'5': 107.94}, 'teamId': 1, 'tiebreak': 0.0, 'totalPoints': 107.94}, 'id': 29, 'matchupPeriodId': 5, 'playoffTierType': 'NONE', 'winner': 'AWAY'}, {'away': {'adjustment': 0.0, 'pointsByScoringPeriod': {'6': 74.4}, 'teamId': 29, 'tiebreak': 0.0, 'totalPoints': 74.4}, 'home': {'adjustment': 0.0, 'pointsByScoringPeriod': {'6': 77.12}, 'teamId': 21, 'tiebreak': 0.0, 'totalPoints': 77.12}, 'id': 30, 'matchupPeriodId': 6, 'playoffTierType': 'NONE', 'winner': 'HOME'}, {'away': {'adjustment': 0.0, 'pointsByScoringPeriod': {'6': 89.78}, 'teamId': 27, 'tiebreak': 0.0, 'totalPoints': 89.78}, 'home': {'adjustment': 0.0, 'pointsByScoringPeriod': {'6': 147.36}, 'teamId': 30, 'tiebreak': 0.0, 'totalPoints': 147.36}, 'id': 31, 'matchupPeriodId': 6, 'playoffTierType': 'NONE', 'winner': 'HOME'}, {'away': {'adjustment': 0.0, 'pointsByScoringPeriod': {'6': 78.14}, 'teamId': 6, 'tiebreak': 0.0, 'totalPoints': 78.14}, 'home': {'adjustment': 0.0, 'pointsByScoringPeriod': {'6': 80.52}, 'teamId': 22, 'tiebreak': 0.0, 'totalPoints': 80.52}, 'id': 32, 'matchupPeriodId': 6, 'playoffTierType': 'NONE', 'winner': 'HOME'}, {'away': {'adjustment': 0.0, 'pointsByScoringPeriod': {'6': 93.9}, 'teamId': 1, 'tiebreak': 0.0, 'totalPoints': 93.9}, 'home': {'adjustment': 0.0, 'pointsByScoringPeriod': {'6': 102.94}, 'teamId': 9, 'tiebreak': 0.0, 'totalPoints': 102.94}, 'id': 33, 'matchupPeriodId': 6, 'playoffTierType': 'NONE', 'winner': 'HOME'}, {'away': {'adjustment': 0.0, 'pointsByScoringPeriod': {'6': 89.84}, 'teamId': 18, 'tiebreak': 0.0, 'totalPoints': 89.84}, 'home': {'adjustment': 0.0, 'pointsByScoringPeriod': {'6': 46.02}, 'teamId': 26, 'tiebreak': 0.0, 'totalPoints': 46.02}, 'id': 34, 'matchupPeriodId': 6, 'playoffTierType': 'NONE', 'winner': 'AWAY'}, {'away': {'adjustment': 0.0, 'pointsByScoringPeriod': {'6': 65.64}, 'teamId': 28, 'tiebreak': 0.0, 'totalPoints': 65.64}, 'home': {'adjustment': 0.0, 'pointsByScoringPeriod': {'6': 120.22}, 'teamId': 3, 'tiebreak': 0.0, 'totalPoints': 120.22}, 'id': 35, 'matchupPeriodId': 6, 'playoffTierType': 'NONE', 'winner': 'HOME'}, {'away': {'adjustment': 0.0, 'pointsByScoringPeriod': {'7': 89.64}, 'teamId': 30, 'tiebreak': 0.0, 'totalPoints': 89.64}, 'home': {'adjustment': 0.0, 'pointsByScoringPeriod': {'7': 145.82}, 'teamId': 29, 'tiebreak': 0.0, 'totalPoints': 145.82}, 'id': 36, 'matchupPeriodId': 7, 'playoffTierType': 'NONE', 'winner': 'HOME'}, {'away': {'adjustment': 0.0, 'pointsByScoringPeriod': {'7': 84.7}, 'teamId': 22, 'tiebreak': 0.0, 'totalPoints': 84.7}, 'home': {'adjustment': 0.0, 'pointsByScoringPeriod': {'7': 72.56}, 'teamId': 27, 'tiebreak': 0.0, 'totalPoints': 72.56}, 'id': 37, 'matchupPeriodId': 7, 'playoffTierType': 'NONE', 'winner': 'AWAY'}, {'away': {'adjustment': 0.0, 'pointsByScoringPeriod': {'7': 111.64}, 'teamId': 9, 'tiebreak': 0.0, 'totalPoints': 111.64}, 'home': {'adjustment': 0.0, 'pointsByScoringPeriod': {'7': 85.46}, 'teamId': 6, 'tiebreak': 0.0, 'totalPoints': 85.46}, 'id': 38, 'matchupPeriodId': 7, 'playoffTierType': 'NONE', 'winner': 'AWAY'}, {'away': {'adjustment': 0.0, 'pointsByScoringPeriod': {'7': 72.56}, 'teamId': 26, 'tiebreak': 0.0, 'totalPoints': 72.56}, 'home': {'adjustment': 0.0, 'pointsByScoringPeriod': {'7': 89.42}, 'teamId': 1, 'tiebreak': 0.0, 'totalPoints': 89.42}, 'id': 39, 'matchupPeriodId': 7, 'playoffTierType': 'NONE', 'winner': 'HOME'}, {'away': {'adjustment': 0.0, 'pointsByScoringPeriod': {'7': 83.02}, 'teamId': 3, 'tiebreak': 0.0, 'totalPoints': 83.02}, 'home': {'adjustment': 0.0, 'pointsByScoringPeriod': {'7': 67.68}, 'teamId': 18, 'tiebreak': 0.0, 'totalPoints': 67.68}, 'id': 40, 'matchupPeriodId': 7, 'playoffTierType': 'NONE', 'winner': 'AWAY'}, {'away': {'adjustment': 0.0, 'pointsByScoringPeriod': {'7': 69.06}, 'teamId': 21, 'tiebreak': 0.0, 'totalPoints': 69.06}, 'home': {'adjustment': 0.0, 'pointsByScoringPeriod': {'7': 93.82}, 'teamId': 28, 'tiebreak': 0.0, 'totalPoints': 93.82}, 'id': 41, 'matchupPeriodId': 7, 'playoffTierType': 'NONE', 'winner': 'HOME'}, {'away': {'adjustment': 0.0, 'pointsByScoringPeriod': {'8': 113.42}, 'teamId': 29, 'tiebreak': 0.0, 'totalPoints': 113.42}, 'home': {'adjustment': 0.0, 'pointsByScoringPeriod': {'8': 86.22}, 'teamId': 22, 'tiebreak': 0.0, 'totalPoints': 86.22}, 'id': 42, 'matchupPeriodId': 8, 'playoffTierType': 'NONE', 'winner': 'AWAY'}, {'away': {'adjustment': 0.0, 'pointsByScoringPeriod': {'8': 80.62}, 'teamId': 27, 'tiebreak': 0.0, 'totalPoints': 80.62}, 'home': {'adjustment': 0.0, 'pointsByScoringPeriod': {'8': 91.66}, 'teamId': 9, 'tiebreak': 0.0, 'totalPoints': 91.66}, 'id': 43, 'matchupPeriodId': 8, 'playoffTierType': 'NONE', 'winner': 'HOME'}, {'away': {'adjustment': 0.0, 'pointsByScoringPeriod': {'8': 86.12}, 'teamId': 6, 'tiebreak': 0.0, 'totalPoints': 86.12}, 'home': {'adjustment': 0.0, 'pointsByScoringPeriod': {'8': 82.68}, 'teamId': 26, 'tiebreak': 0.0, 'totalPoints': 82.68}, 'id': 44, 'matchupPeriodId': 8, 'playoffTierType': 'NONE', 'winner': 'AWAY'}, {'away': {'adjustment': 0.0, 'pointsByScoringPeriod': {'8': 110.88}, 'teamId': 1, 'tiebreak': 0.0, 'totalPoints': 110.88}, 'home': {'adjustment': 0.0, 'pointsByScoringPeriod': {'8': 80.28}, 'teamId': 3, 'tiebreak': 0.0, 'totalPoints': 80.28}, 'id': 45, 'matchupPeriodId': 8, 'playoffTierType': 'NONE', 'winner': 'AWAY'}, {'away': {'adjustment': 0.0, 'pointsByScoringPeriod': {'8': 88.62}, 'teamId': 18, 'tiebreak': 0.0, 'totalPoints': 88.62}, 'home': {'adjustment': 0.0, 'pointsByScoringPeriod': {'8': 143.18}, 'teamId': 21, 'tiebreak': 0.0, 'totalPoints': 143.18}, 'id': 46, 'matchupPeriodId': 8, 'playoffTierType': 'NONE', 'winner': 'HOME'}, {'away': {'adjustment': 0.0, 'pointsByScoringPeriod': {'8': 88.34}, 'teamId': 28, 'tiebreak': 0.0, 'totalPoints': 88.34}, 'home': {'adjustment': 0.0, 'pointsByScoringPeriod': {'8': 98.96}, 'teamId': 30, 'tiebreak': 0.0, 'totalPoints': 98.96}, 'id': 47, 'matchupPeriodId': 8, 'playoffTierType': 'NONE', 'winner': 'HOME'}, {'away': {'adjustment': 0.0, 'pointsByScoringPeriod': {'9': 128.82}, 'teamId': 9, 'tiebreak': 0.0, 'totalPoints': 128.82}, 'home': {'adjustment': 0.0, 'pointsByScoringPeriod': {'9': 111.72}, 'teamId': 29, 'tiebreak': 0.0, 'totalPoints': 111.72}, 'id': 48, 'matchupPeriodId': 9, 'playoffTierType': 'NONE', 'winner': 'AWAY'}, {'away': {'adjustment': 0.0, 'pointsByScoringPeriod': {'9': 105.8}, 'teamId': 26, 'tiebreak': 0.0, 'totalPoints': 105.8}, 'home': {'adjustment': 0.0, 'pointsByScoringPeriod': {'9': 99.6}, 'teamId': 27, 'tiebreak': 0.0, 'totalPoints': 99.6}, 'id': 49, 'matchupPeriodId': 9, 'playoffTierType': 'NONE', 'winner': 'AWAY'}, {'away': {'adjustment': 0.0, 'pointsByScoringPeriod': {'9': 74.52}, 'teamId': 3, 'tiebreak': 0.0, 'totalPoints': 74.52}, 'home': {'adjustment': 0.0, 'pointsByScoringPeriod': {'9': 81.36}, 'teamId': 6, 'tiebreak': 0.0, 'totalPoints': 81.36}, 'id': 50, 'matchupPeriodId': 9, 'playoffTierType': 'NONE', 'winner': 'HOME'}, {'away': {'adjustment': 0.0, 'pointsByScoringPeriod': {'9': 108.42}, 'teamId': 21, 'tiebreak': 0.0, 'totalPoints': 108.42}, 'home': {'adjustment': 0.0, 'pointsByScoringPeriod': {'9': 85.98}, 'teamId': 1, 'tiebreak': 0.0, 'totalPoints': 85.98}, 'id': 51, 'matchupPeriodId': 9, 'playoffTierType': 'NONE', 'winner': 'AWAY'}, {'away': {'adjustment': 0.0, 'pointsByScoringPeriod': {'9': 59.28}, 'teamId': 30, 'tiebreak': 0.0, 'totalPoints': 59.28}, 'home': {'adjustment': 0.0, 'pointsByScoringPeriod': {'9': 75.74}, 'teamId': 18, 'tiebreak': 0.0, 'totalPoints': 75.74}, 'id': 52, 'matchupPeriodId': 9, 'playoffTierType': 'NONE', 'winner': 'HOME'}, {'away': {'adjustment': 0.0, 'pointsByScoringPeriod': {'9': 102.24}, 'teamId': 22, 'tiebreak': 0.0, 'totalPoints': 102.24}, 'home': {'adjustment': 0.0, 'pointsByScoringPeriod': {'9': 80.46}, 'teamId': 28, 'tiebreak': 0.0, 'totalPoints': 80.46}, 'id': 53, 'matchupPeriodId': 9, 'playoffTierType': 'NONE', 'winner': 'AWAY'}, {'away': {'adjustment': 0.0, 'pointsByScoringPeriod': {'10': 92.38}, 'teamId': 29, 'tiebreak': 0.0, 'totalPoints': 92.38}, 'home': {'adjustment': 0.0, 'pointsByScoringPeriod': {'10': 65.88}, 'teamId': 26, 'tiebreak': 0.0, 'totalPoints': 65.88}, 'id': 54, 'matchupPeriodId': 10, 'playoffTierType': 'NONE', 'winner': 'AWAY'}, {'away': {'adjustment': 0.0, 'pointsByScoringPeriod': {'10': 110.14}, 'teamId': 27, 'tiebreak': 0.0, 'totalPoints': 110.14}, 'home': {'adjustment': 0.0, 'pointsByScoringPeriod': {'10': 72.24}, 'teamId': 3, 'tiebreak': 0.0, 'totalPoints': 72.24}, 'id': 55, 'matchupPeriodId': 10, 'playoffTierType': 'NONE', 'winner': 'AWAY'}, {'away': {'adjustment': 0.0, 'pointsByScoringPeriod': {'10': 88.94}, 'teamId': 6, 'tiebreak': 0.0, 'totalPoints': 88.94}, 'home': {'adjustment': 0.0, 'pointsByScoringPeriod': {'10': 100.8}, 'teamId': 21, 'tiebreak': 0.0, 'totalPoints': 100.8}, 'id': 56, 'matchupPeriodId': 10, 'playoffTierType': 'NONE', 'winner': 'HOME'}, {'away': {'adjustment': 0.0, 'pointsByScoringPeriod': {'10': 79.52}, 'teamId': 1, 'tiebreak': 0.0, 'totalPoints': 79.52}, 'home': {'adjustment': 0.0, 'pointsByScoringPeriod': {'10': 92.16}, 'teamId': 30, 'tiebreak': 0.0, 'totalPoints': 92.16}, 'id': 57, 'matchupPeriodId': 10, 'playoffTierType': 'NONE', 'winner': 'HOME'}, {'away': {'adjustment': 0.0, 'pointsByScoringPeriod': {'10': 111.86}, 'teamId': 18, 'tiebreak': 0.0, 'totalPoints': 111.86}, 'home': {'adjustment': 0.0, 'pointsByScoringPeriod': {'10': 111.66}, 'teamId': 22, 'tiebreak': 0.0, 'totalPoints': 111.66}, 'id': 58, 'matchupPeriodId': 10, 'playoffTierType': 'NONE', 'winner': 'AWAY'}, {'away': {'adjustment': 0.0, 'pointsByScoringPeriod': {'10': 99.9}, 'teamId': 28, 'tiebreak': 0.0, 'totalPoints': 99.9}, 'home': {'adjustment': 0.0, 'pointsByScoringPeriod': {'10': 96.26}, 'teamId': 9, 'tiebreak': 0.0, 'totalPoints': 96.26}, 'id': 59, 'matchupPeriodId': 10, 'playoffTierType': 'NONE', 'winner': 'AWAY'}, {'away': {'adjustment': 0.0, 'pointsByScoringPeriod': {'11': 130.84}, 'teamId': 3, 'tiebreak': 0.0, 'totalPoints': 130.84}, 'home': {'adjustment': 0.0, 'pointsByScoringPeriod': {'11': 71.3}, 'teamId': 29, 'tiebreak': 0.0, 'totalPoints': 71.3}, 'id': 60, 'matchupPeriodId': 11, 'playoffTierType': 'NONE', 'winner': 'AWAY'}, {'away': {'adjustment': 0.0, 'pointsByScoringPeriod': {'11': 75.6}, 'teamId': 21, 'tiebreak': 0.0, 'totalPoints': 75.6}, 'home': {'adjustment': 0.0, 'pointsByScoringPeriod': {'11': 80.9}, 'teamId': 27, 'tiebreak': 0.0, 'totalPoints': 80.9}, 'id': 61, 'matchupPeriodId': 11, 'playoffTierType': 'NONE', 'winner': 'HOME'}, {'away': {'adjustment': 0.0, 'pointsByScoringPeriod': {'11': 89.72}, 'teamId': 30, 'tiebreak': 0.0, 'totalPoints': 89.72}, 'home': {'adjustment': 0.0, 'pointsByScoringPeriod': {'11': 71.58}, 'teamId': 6, 'tiebreak': 0.0, 'totalPoints': 71.58}, 'id': 62, 'matchupPeriodId': 11, 'playoffTierType': 'NONE', 'winner': 'AWAY'}, {'away': {'adjustment': 0.0, 'pointsByScoringPeriod': {'11': 99.96}, 'teamId': 22, 'tiebreak': 0.0, 'totalPoints': 99.96}, 'home': {'adjustment': 0.0, 'pointsByScoringPeriod': {'11': 124.42}, 'teamId': 1, 'tiebreak': 0.0, 'totalPoints': 124.42}, 'id': 63, 'matchupPeriodId': 11, 'playoffTierType': 'NONE', 'winner': 'HOME'}, {'away': {'adjustment': 0.0, 'pointsByScoringPeriod': {'11': 130.9}, 'teamId': 9, 'tiebreak': 0.0, 'totalPoints': 130.9}, 'home': {'adjustment': 0.0, 'pointsByScoringPeriod': {'11': 115.0}, 'teamId': 18, 'tiebreak': 0.0, 'totalPoints': 115.0}, 'id': 64, 'matchupPeriodId': 11, 'playoffTierType': 'NONE', 'winner': 'AWAY'}, {'away': {'adjustment': 0.0, 'pointsByScoringPeriod': {'11': 109.66}, 'teamId': 26, 'tiebreak': 0.0, 'totalPoints': 109.66}, 'home': {'adjustment': 0.0, 'pointsByScoringPeriod': {'11': 92.82}, 'teamId': 28, 'tiebreak': 0.0, 'totalPoints': 92.82}, 'id': 65, 'matchupPeriodId': 11, 'playoffTierType': 'NONE', 'winner': 'AWAY'}, {'away': {'adjustment': 0.0, 'pointsByScoringPeriod': {'12': 88.96}, 'teamId': 21, 'tiebreak': 0.0, 'totalPoints': 88.96}, 'home': {'adjustment': 0.0, 'pointsByScoringPeriod': {'12': 104.98}, 'teamId': 29, 'tiebreak': 0.0, 'totalPoints': 104.98}, 'id': 66, 'matchupPeriodId': 12, 'playoffTierType': 'NONE', 'winner': 'HOME'}, {'away': {'adjustment': 0.0, 'pointsByScoringPeriod': {'12': 117.56}, 'teamId': 30, 'tiebreak': 0.0, 'totalPoints': 117.56}, 'home': {'adjustment': 0.0, 'pointsByScoringPeriod': {'12': 146.48}, 'teamId': 27, 'tiebreak': 0.0, 'totalPoints': 146.48}, 'id': 67, 'matchupPeriodId': 12, 'playoffTierType': 'NONE', 'winner': 'HOME'}, {'away': {'adjustment': 0.0, 'pointsByScoringPeriod': {'12': 60.4}, 'teamId': 22, 'tiebreak': 0.0, 'totalPoints': 60.4}, 'home': {'adjustment': 0.0, 'pointsByScoringPeriod': {'12': 120.02}, 'teamId': 6, 'tiebreak': 0.0, 'totalPoints': 120.02}, 'id': 68, 'matchupPeriodId': 12, 'playoffTierType': 'NONE', 'winner': 'HOME'}, {'away': {'adjustment': 0.0, 'pointsByScoringPeriod': {'12': 119.64}, 'teamId': 9, 'tiebreak': 0.0, 'totalPoints': 119.64}, 'home': {'adjustment': 0.0, 'pointsByScoringPeriod': {'12': 97.52}, 'teamId': 1, 'tiebreak': 0.0, 'totalPoints': 97.52}, 'id': 69, 'matchupPeriodId': 12, 'playoffTierType': 'NONE', 'winner': 'AWAY'}, {'away': {'adjustment': 0.0, 'pointsByScoringPeriod': {'12': 78.94}, 'teamId': 26, 'tiebreak': 0.0, 'totalPoints': 78.94}, 'home': {'adjustment': 0.0, 'pointsByScoringPeriod': {'12': 107.08}, 'teamId': 18, 'tiebreak': 0.0, 'totalPoints': 107.08}, 'id': 70, 'matchupPeriodId': 12, 'playoffTierType': 'NONE', 'winner': 'HOME'}, {'away': {'adjustment': 0.0, 'pointsByScoringPeriod': {'12': 114.86}, 'teamId': 3, 'tiebreak': 0.0, 'totalPoints': 114.86}, 'home': {'adjustment': 0.0, 'pointsByScoringPeriod': {'12': 100.48}, 'teamId': 28, 'tiebreak': 0.0, 'totalPoints': 100.48}, 'id': 71, 'matchupPeriodId': 12, 'playoffTierType': 'NONE', 'winner': 'AWAY'}, {'away': {'adjustment': 0.0, 'pointsByScoringPeriod': {'13': 93.04}, 'teamId': 29, 'tiebreak': 0.0, 'totalPoints': 93.04}, 'home': {'adjustment': 0.0, 'pointsByScoringPeriod': {'13': 87.12}, 'teamId': 30, 'tiebreak': 0.0, 'totalPoints': 87.12}, 'id': 72, 'matchupPeriodId': 13, 'playoffTierType': 'NONE', 'winner': 'AWAY'}, {'away': {'adjustment': 0.0, 'pointsByScoringPeriod': {'13': 84.42}, 'teamId': 27, 'tiebreak': 0.0, 'totalPoints': 84.42}, 'home': {'adjustment': 0.0, 'pointsByScoringPeriod': {'13': 111.78}, 'teamId': 22, 'tiebreak': 0.0, 'totalPoints': 111.78}, 'id': 73, 'matchupPeriodId': 13, 'playoffTierType': 'NONE', 'winner': 'HOME'}, {'away': {'adjustment': 0.0, 'pointsByScoringPeriod': {'13': 88.78}, 'teamId': 6, 'tiebreak': 0.0, 'totalPoints': 88.78}, 'home': {'adjustment': 0.0, 'pointsByScoringPeriod': {'13': 122.06}, 'teamId': 9, 'tiebreak': 0.0, 'totalPoints': 122.06}, 'id': 74, 'matchupPeriodId': 13, 'playoffTierType': 'NONE', 'winner': 'HOME'}, {'away': {'adjustment': 0.0, 'pointsByScoringPeriod': {'13': 124.38}, 'teamId': 1, 'tiebreak': 0.0, 'totalPoints': 124.38}, 'home': {'adjustment': 0.0, 'pointsByScoringPeriod': {'13': 68.8}, 'teamId': 26, 'tiebreak': 0.0, 'totalPoints': 68.8}, 'id': 75, 'matchupPeriodId': 13, 'playoffTierType': 'NONE', 'winner': 'AWAY'}, {'away': {'adjustment': 0.0, 'pointsByScoringPeriod': {'13': 55.48}, 'teamId': 18, 'tiebreak': 0.0, 'totalPoints': 55.48}, 'home': {'adjustment': 0.0, 'pointsByScoringPeriod': {'13': 90.76}, 'teamId': 3, 'tiebreak': 0.0, 'totalPoints': 90.76}, 'id': 76, 'matchupPeriodId': 13, 'playoffTierType': 'NONE', 'winner': 'HOME'}, {'away': {'adjustment': 0.0, 'pointsByScoringPeriod': {'13': 77.22}, 'teamId': 28, 'tiebreak': 0.0, 'totalPoints': 77.22}, 'home': {'adjustment': 0.0, 'pointsByScoringPeriod': {'13': 110.5}, 'teamId': 21, 'tiebreak': 0.0, 'totalPoints': 110.5}, 'id': 77, 'matchupPeriodId': 13, 'playoffTierType': 'NONE', 'winner': 'HOME'}, {'home': {'adjustment': 0.0, 'pointsByScoringPeriod': {'14': 89.34}, 'teamId': 9, 'tiebreak': 0.0, 'totalPoints': 89.34}, 'id': 78, 'matchupPeriodId': 14, 'playoffTierType': 'WINNERS_BRACKET', 'winner': 'UNDECIDED'}, {'away': {'adjustment': 0.0, 'pointsByScoringPeriod': {'14': 102.82}, 'teamId': 27, 'tiebreak': 0.0, 'totalPoints': 102.82}, 'home': {'adjustment': 0.0, 'pointsByScoringPeriod': {'14': 126.06}, 'teamId': 21, 'tiebreak': 0.0, 'totalPoints': 126.06}, 'id': 79, 'matchupPeriodId': 14, 'playoffTierType': 'WINNERS_BRACKET', 'winner': 'HOME'}, {'away': {'adjustment': 0.0, 'pointsByScoringPeriod': {'14': 78.14}, 'teamId': 29, 'tiebreak': 0.0, 'totalPoints': 78.14}, 'home': {'adjustment': 0.0, 'pointsByScoringPeriod': {'14': 93.36}, 'teamId': 3, 'tiebreak': 0.0, 'totalPoints': 93.36}, 'id': 80, 'matchupPeriodId': 14, 'playoffTierType': 'WINNERS_BRACKET', 'winner': 'HOME'}, {'home': {'adjustment': 0.0, 'pointsByScoringPeriod': {'14': 80.68}, 'teamId': 30, 'tiebreak': 0.0, 'totalPoints': 80.68}, 'id': 81, 'matchupPeriodId': 14, 'playoffTierType': 'WINNERS_BRACKET', 'winner': 'UNDECIDED'}, {'away': {'adjustment': 0.0, 'pointsByScoringPeriod': {'14': 106.7}, 'teamId': 18, 'tiebreak': 0.0, 'totalPoints': 106.7}, 'home': {'adjustment': 0.0, 'pointsByScoringPeriod': {'14': 87.84}, 'teamId': 28, 'tiebreak': 0.0, 'totalPoints': 87.84}, 'id': 82, 'matchupPeriodId': 14, 'playoffTierType': 'LOSERS_CONSOLATION_LADDER', 'winner': 'AWAY'}, {'away': {'adjustment': 0.0, 'pointsByScoringPeriod': {'14': 71.34}, 'teamId': 6, 'tiebreak': 0.0, 'totalPoints': 71.34}, 'home': {'adjustment': 0.0, 'pointsByScoringPeriod': {'14': 129.44}, 'teamId': 1, 'tiebreak': 0.0, 'totalPoints': 129.44}, 'id': 83, 'matchupPeriodId': 14, 'playoffTierType': 'LOSERS_CONSOLATION_LADDER', 'winner': 'HOME'}, {'away': {'adjustment': 0.0, 'pointsByScoringPeriod': {'14': 98.44}, 'teamId': 26, 'tiebreak': 0.0, 'totalPoints': 98.44}, 'home': {'adjustment': 0.0, 'pointsByScoringPeriod': {'14': 99.74}, 'teamId': 22, 'tiebreak': 0.0, 'totalPoints': 99.74}, 'id': 84, 'matchupPeriodId': 14, 'playoffTierType': 'LOSERS_CONSOLATION_LADDER', 'winner': 'HOME'}, {'away': {'adjustment': 0.0, 'pointsByScoringPeriod': {'15': 78.7}, 'teamId': 21, 'tiebreak': 0.0, 'totalPoints': 78.7}, 'home': {'adjustment': 0.0, 'pointsByScoringPeriod': {'15': 127.64}, 'teamId': 9, 'tiebreak': 0.0, 'totalPoints': 127.64}, 'id': 85, 'matchupPeriodId': 15, 'playoffTierType': 'WINNERS_BRACKET', 'winner': 'HOME'}, {'away': {'adjustment': 0.0, 'pointsByScoringPeriod': {'15': 104.78}, 'teamId': 3, 'tiebreak': 0.0, 'totalPoints': 104.78}, 'home': {'adjustment': 0.0, 'pointsByScoringPeriod': {'15': 102.18}, 'teamId': 30, 'tiebreak': 0.0, 'totalPoints': 102.18}, 'id': 86, 'matchupPeriodId': 15, 'playoffTierType': 'WINNERS_BRACKET', 'winner': 'AWAY'}, {'away': {'adjustment': 0.0, 'pointsByScoringPeriod': {'15': 63.24}, 'teamId': 29, 'tiebreak': 0.0, 'totalPoints': 63.24}, 'home': {'adjustment': 0.0, 'pointsByScoringPeriod': {'15': 110.42}, 'teamId': 27, 'tiebreak': 0.0, 'totalPoints': 110.42}, 'id': 87, 'matchupPeriodId': 15, 'playoffTierType': 'WINNERS_CONSOLATION_LADDER', 'winner': 'HOME'}, {'away': {'adjustment': 0.0, 'pointsByScoringPeriod': {'15': 95.78}, 'teamId': 1, 'tiebreak': 0.0, 'totalPoints': 95.78}, 'home': {'adjustment': 0.0, 'pointsByScoringPeriod': {'15': 57.04}, 'teamId': 18, 'tiebreak': 0.0, 'totalPoints': 57.04}, 'id': 88, 'matchupPeriodId': 15, 'playoffTierType': 'LOSERS_CONSOLATION_LADDER', 'winner': 'AWAY'}, {'away': {'adjustment': 0.0, 'pointsByScoringPeriod': {'15': 116.48}, 'teamId': 22, 'tiebreak': 0.0, 'totalPoints': 116.48}, 'home': {'adjustment': 0.0, 'pointsByScoringPeriod': {'15': 126.6}, 'teamId': 28, 'tiebreak': 0.0, 'totalPoints': 126.6}, 'id': 89, 'matchupPeriodId': 15, 'playoffTierType': 'LOSERS_CONSOLATION_LADDER', 'winner': 'HOME'}, {'away': {'adjustment': 0.0, 'pointsByScoringPeriod': {'15': 64.04}, 'teamId': 26, 'tiebreak': 0.0, 'totalPoints': 64.04}, 'home': {'adjustment': 0.0, 'pointsByScoringPeriod': {'15': 74.28}, 'teamId': 6, 'tiebreak': 0.0, 'totalPoints': 74.28}, 'id': 90, 'matchupPeriodId': 15, 'playoffTierType': 'LOSERS_CONSOLATION_LADDER', 'winner': 'HOME'}, {'away': {'adjustment': 0.0, 'pointsByScoringPeriod': {'16': 125.92}, 'teamId': 3, 'tiebreak': 0.0, 'totalPoints': 125.92}, 'home': {'adjustment': 0.0, 'pointsByScoringPeriod': {'16': 87.06}, 'teamId': 9, 'tiebreak': 0.0, 'totalPoints': 87.06}, 'id': 91, 'matchupPeriodId': 16, 'playoffTierType': 'WINNERS_BRACKET', 'winner': 'AWAY'}, {'away': {'adjustment': 0.0, 'pointsByScoringPeriod': {'16': 108.94}, 'teamId': 21, 'tiebreak': 0.0, 'totalPoints': 108.94}, 'home': {'adjustment': 0.0, 'pointsByScoringPeriod': {'16': 85.9}, 'teamId': 30, 'tiebreak': 0.0, 'totalPoints': 85.9}, 'id': 92, 'matchupPeriodId': 16, 'playoffTierType': 'WINNERS_CONSOLATION_LADDER', 'winner': 'AWAY'}, {'away': {'adjustment': 0.0, 'pointsByScoringPeriod': {'16': 74.56}, 'teamId': 29, 'tiebreak': 0.0, 'totalPoints': 74.56}, 'home': {'adjustment': 0.0, 'pointsByScoringPeriod': {'16': 122.66}, 'teamId': 27, 'tiebreak': 0.0, 'totalPoints': 122.66}, 'id': 93, 'matchupPeriodId': 16, 'playoffTierType': 'WINNERS_CONSOLATION_LADDER', 'winner': 'HOME'}, {'away': {'adjustment': 0.0, 'pointsByScoringPeriod': {'16': 85.92}, 'teamId': 1, 'tiebreak': 0.0, 'totalPoints': 85.92}, 'home': {'adjustment': 0.0, 'pointsByScoringPeriod': {'16': 71.18}, 'teamId': 28, 'tiebreak': 0.0, 'totalPoints': 71.18}, 'id': 94, 'matchupPeriodId': 16, 'playoffTierType': 'LOSERS_CONSOLATION_LADDER', 'winner': 'AWAY'}, {'away': {'adjustment': 0.0, 'pointsByScoringPeriod': {'16': 77.74}, 'teamId': 6, 'tiebreak': 0.0, 'totalPoints': 77.74}, 'home': {'adjustment': 0.0, 'pointsByScoringPeriod': {'16': 79.06}, 'teamId': 18, 'tiebreak': 0.0, 'totalPoints': 79.06}, 'id': 95, 'matchupPeriodId': 16, 'playoffTierType': 'LOSERS_CONSOLATION_LADDER', 'winner': 'HOME'}, {'away': {'adjustment': 0.0, 'pointsByScoringPeriod': {'16': 67.64}, 'teamId': 26, 'tiebreak': 0.0, 'totalPoints': 67.64}, 'home': {'adjustment': 0.0, 'pointsByScoringPeriod': {'16': 88.32}, 'teamId': 22, 'tiebreak': 0.0, 'totalPoints': 88.32}, 'id': 96, 'matchupPeriodId': 16, 'playoffTierType': 'LOSERS_CONSOLATION_LADDER', 'winner': 'HOME'}], 'scoringPeriodId': 1, 'seasonId': 2017, 'segmentId': 0, 'status': {'activatedDate': 1596318093908, 'createdAsLeagueType': 0, 'currentLeagueType': 0, 'currentMatchupPeriod': 16, 'finalScoringPeriod': 16, 'firstScoringPeriod': 1, 'isActive': True, 'isExpired': False, 'isFull': True, 'isPlayoffMatchupEdited': False, 'isToBeDeleted': False, 'isViewable': False, 'isWaiverOrderEdited': False, 'latestScoringPeriod': 18, 'previousSeasons': [2009, 2010, 2011, 2012, 2013, 2014, 2015, 2016, 2017, 2018, 2019], 'standingsUpdateDate': 1609749887525, 'teamsJoined': 12, 'transactionScoringPeriod': 18, 'waiverLastExecutionDate': 1610008571390, 'waiverProcessStatus': {'2020-09-17T07:18:03.571+0000': 5, '2020-09-24T07:21:29.996+0000': 6, '2020-10-01T07:48:01.137+0000': 3, '2020-10-05T07:38:35.149+0000': 0, '2020-10-08T07:02:05.339+0000': 8, '2020-10-10T07:39:05.876+0000': 1, '2020-10-16T07:18:41.056+0000': 6, '2020-10-22T07:58:06.082+0000': 11, '2020-10-29T07:32:30.111+0000': 11, '2020-10-31T07:25:45.042+0000': 1, '2020-11-05T08:00:34.942+0000': 7, '2020-11-07T08:33:49.993+0000': 1, '2020-11-12T08:48:48.977+0000': 8, '2020-11-14T09:09:25.546+0000': 1, '2020-11-19T08:35:57.956+0000': 8, '2020-11-21T08:13:37.685+0000': 1, '2020-11-22T08:18:57.812+0000': 0, '2020-11-26T08:22:42.705+0000': 5, '2020-12-05T08:30:59.187+0000': 4, '2020-12-11T08:13:43.626+0000': 6, '2020-12-17T08:06:50.885+0000': 6, '2020-12-24T08:16:34.488+0000': 1}}}]\n"
          ]
        },
        {
          "output_type": "error",
          "ename": "TypeError",
          "evalue": "ignored",
          "traceback": [
            "\u001b[0;31m---------------------------------------------------------------------------\u001b[0m",
            "\u001b[0;31mTypeError\u001b[0m                                 Traceback (most recent call last)",
            "\u001b[0;32m<ipython-input-15-26cbfd57ca24>\u001b[0m in \u001b[0;36m<module>\u001b[0;34m()\u001b[0m\n\u001b[1;32m     23\u001b[0m     \u001b[0md\u001b[0m \u001b[0;34m=\u001b[0m \u001b[0mr\u001b[0m\u001b[0;34m.\u001b[0m\u001b[0mjson\u001b[0m\u001b[0;34m(\u001b[0m\u001b[0;34m)\u001b[0m\u001b[0;34m\u001b[0m\u001b[0;34m\u001b[0m\u001b[0m\n\u001b[1;32m     24\u001b[0m \u001b[0;34m\u001b[0m\u001b[0m\n\u001b[0;32m---> 25\u001b[0;31m     \u001b[0;32mfor\u001b[0m \u001b[0mtm\u001b[0m \u001b[0;32min\u001b[0m \u001b[0md\u001b[0m\u001b[0;34m[\u001b[0m\u001b[0;34m'teams'\u001b[0m\u001b[0;34m]\u001b[0m\u001b[0;34m:\u001b[0m\u001b[0;34m\u001b[0m\u001b[0;34m\u001b[0m\u001b[0m\n\u001b[0m\u001b[1;32m     26\u001b[0m         \u001b[0mtmid\u001b[0m \u001b[0;34m=\u001b[0m \u001b[0mtm\u001b[0m\u001b[0;34m[\u001b[0m\u001b[0;34m'id'\u001b[0m\u001b[0;34m]\u001b[0m\u001b[0;34m\u001b[0m\u001b[0;34m\u001b[0m\u001b[0m\n\u001b[1;32m     27\u001b[0m         \u001b[0;32mfor\u001b[0m \u001b[0mp\u001b[0m \u001b[0;32min\u001b[0m \u001b[0mtm\u001b[0m\u001b[0;34m[\u001b[0m\u001b[0;34m'roster'\u001b[0m\u001b[0;34m]\u001b[0m\u001b[0;34m[\u001b[0m\u001b[0;34m'entries'\u001b[0m\u001b[0;34m]\u001b[0m\u001b[0;34m:\u001b[0m\u001b[0;34m\u001b[0m\u001b[0;34m\u001b[0m\u001b[0m\n",
            "\u001b[0;31mTypeError\u001b[0m: list indices must be integers or slices, not str"
          ]
        }
      ]
    }
  ]
}